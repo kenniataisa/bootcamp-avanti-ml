{
  "nbformat": 4,
  "nbformat_minor": 0,
  "metadata": {
    "colab": {
      "provenance": []
    },
    "kernelspec": {
      "name": "python3",
      "display_name": "Python 3"
    },
    "language_info": {
      "name": "python"
    }
  },
  "cells": [
    {
      "cell_type": "markdown",
      "source": [
        "1. Escreva um programa que solicite ao usuário uma palavra é verifique se ela é um palindromo."
      ],
      "metadata": {
        "id": "btD2S-eZQ66k"
      }
    },
    {
      "cell_type": "code",
      "source": [
        "palavra = str(input('Digite uma palavra: ')).strip().upper()\n",
        "word = palavra.split()\n",
        "junto = ''.join(palavra)\n",
        "inverso = junto[::-1]\n",
        "print('O inverso de {} é {}'.format(junto, inverso))\n",
        "if inverso == junto:\n",
        "  print(\"A palava é um palindromo.\")\n",
        "else:\n",
        "  print(\"A palavra não é um palindromo.\")\n",
        "\n"
      ],
      "metadata": {
        "colab": {
          "base_uri": "https://localhost:8080/"
        },
        "id": "QNttvsEuRg6l",
        "outputId": "0a08aa2d-0a0b-43f0-9051-f10308aaad6f"
      },
      "execution_count": 28,
      "outputs": [
        {
          "output_type": "stream",
          "name": "stdout",
          "text": [
            "Digite uma palavra: ama\n",
            "O inverso de AMA é AMA\n",
            "A palava é um palindromo.\n",
            "\n"
          ]
        }
      ]
    },
    {
      "cell_type": "markdown",
      "source": [
        "\n",
        "\n",
        "---\n",
        "\n"
      ],
      "metadata": {
        "id": "9e1k-6LIX5R0"
      }
    },
    {
      "cell_type": "markdown",
      "source": [
        "2. Escreva um programa que leia números digitados pelo usuário e pare quando o numero 0 for digitado. No final, imprima a média dos números digitados.\n"
      ],
      "metadata": {
        "id": "hBpBDdeuU7Kk"
      }
    },
    {
      "cell_type": "code",
      "source": [
        "total = 0\n",
        "contador = 0\n",
        "\n",
        "while True:\n",
        "    numero = int(input(\"Informe um número ou 0 para sair): \"))\n",
        "\n",
        "    if numero == 0:\n",
        "        break\n",
        "\n",
        "    total += numero\n",
        "    contador += 1\n",
        "\n",
        "if contador > 0:\n",
        "    media = total / contador\n",
        "    print(f\"A média dos números informados é: {media:.2f}\")\n",
        "else:\n",
        "    print(\"Nenhum número foi digitado.\")\n"
      ],
      "metadata": {
        "colab": {
          "base_uri": "https://localhost:8080/"
        },
        "id": "G5ojG6ChWVhT",
        "outputId": "c6c416d0-18c2-46c2-bbdd-0a1d8c476d9e"
      },
      "execution_count": 8,
      "outputs": [
        {
          "output_type": "stream",
          "name": "stdout",
          "text": [
            "Digite um número (0 para sair): 10\n",
            "Digite um número (0 para sair): 0\n",
            "A média dos números digitados é: 10.00\n"
          ]
        }
      ]
    },
    {
      "cell_type": "markdown",
      "source": [
        "\n",
        "\n",
        "---\n",
        "\n"
      ],
      "metadata": {
        "id": "ROQIC7YOYmQX"
      }
    },
    {
      "cell_type": "markdown",
      "source": [
        "3. Dada uma string 'python é uma linguagem poderosa', crie uma lista com as palavras separadas."
      ],
      "metadata": {
        "id": "hvdFfFizYFfL"
      }
    },
    {
      "cell_type": "code",
      "source": [
        "frase = 'python é uma linguagem poderosa'\n",
        "lista_palavras = frase.split()\n",
        "\n",
        "print(lista_palavras)"
      ],
      "metadata": {
        "colab": {
          "base_uri": "https://localhost:8080/"
        },
        "id": "Ghgj37P7YihN",
        "outputId": "ffe0ac0a-75f2-4607-b11f-d2cc09009c5d"
      },
      "execution_count": 9,
      "outputs": [
        {
          "output_type": "stream",
          "name": "stdout",
          "text": [
            "['python', 'é', 'uma', 'linguagem', 'poderosa']\n"
          ]
        }
      ]
    },
    {
      "cell_type": "markdown",
      "source": [
        "\n",
        "\n",
        "---\n",
        "\n"
      ],
      "metadata": {
        "id": "EODteV5-X1mv"
      }
    },
    {
      "cell_type": "markdown",
      "source": [
        "4. Dada uma lista de strings ['banana', 'maça', 'laranja', 'abacaxi'], crie uma nova lista com as plavras que têm mais 5 letras e outra lista com as palavras que terminam com a letra a."
      ],
      "metadata": {
        "id": "ksjkRoczYr2z"
      }
    },
    {
      "cell_type": "code",
      "source": [
        "lista = ['banana', 'maça', 'laranja', 'abacaxi']\n",
        "cincoLetras = []\n",
        "comLetraA = []\n",
        "\n",
        "for palavra in lista:\n",
        "    if len(palavra) > 5:\n",
        "        cincoLetras.append(palavra)\n",
        "    if palavra[-1] == 'a':\n",
        "        comLetraA.append(palavra)\n",
        "\n",
        "print(\"Palavras com mais de 5 letras:\", cincoLetras)\n",
        "print(\"Palavras que terminam com 'a':\", comLetraA)\n",
        "\n",
        "\n",
        "\n",
        "\n",
        "\n",
        "\n",
        "\n"
      ],
      "metadata": {
        "colab": {
          "base_uri": "https://localhost:8080/"
        },
        "id": "PBolWm7KZkIt",
        "outputId": "c1adcf52-9d48-4a1f-a5f1-31142fb629ae"
      },
      "execution_count": 12,
      "outputs": [
        {
          "output_type": "stream",
          "name": "stdout",
          "text": [
            "Palavras com mais de 5 letras: ['banana', 'laranja', 'abacaxi']\n",
            "Palavras que terminam com 'a': ['banana', 'maça', 'laranja']\n"
          ]
        }
      ]
    },
    {
      "cell_type": "markdown",
      "source": [
        "\n",
        "\n",
        "---\n",
        "\n"
      ],
      "metadata": {
        "id": "xmF9-3rSaroz"
      }
    },
    {
      "cell_type": "markdown",
      "source": [
        "5. Escreva um programa que receba uma lista de números e retorne outra lista com os números impares."
      ],
      "metadata": {
        "id": "vihpyXhcaZBM"
      }
    },
    {
      "cell_type": "code",
      "source": [
        "def numeros_impares(lista):\n",
        "    return [numero for numero in lista if numero % 2 != 0]\n",
        "\n",
        "numeros = [1, 2, 3, 4, 5, 6, 7, 8, 9, 10]\n",
        "impares = numeros_impares(numeros)\n",
        "print(\"Números ímpares:\", impares)"
      ],
      "metadata": {
        "colab": {
          "base_uri": "https://localhost:8080/"
        },
        "id": "Bb0N5DNZaqOC",
        "outputId": "da7c9363-a961-4c99-8bb3-d1fb23d851e3"
      },
      "execution_count": 13,
      "outputs": [
        {
          "output_type": "stream",
          "name": "stdout",
          "text": [
            "Números ímpares: [1, 3, 5, 7, 9]\n"
          ]
        }
      ]
    },
    {
      "cell_type": "markdown",
      "source": [
        "\n",
        "\n",
        "---\n",
        "\n"
      ],
      "metadata": {
        "id": "ZhPUUgcJbuBo"
      }
    },
    {
      "cell_type": "markdown",
      "source": [
        "6. Escreva uma função que receba uma lista de números e retorne outra lista com numeos primos presentes."
      ],
      "metadata": {
        "id": "x5peqzHDbvss"
      }
    },
    {
      "cell_type": "code",
      "source": [
        "def primo(numero):\n",
        "    if numero <= 1:\n",
        "        return False\n",
        "    for i in range(2, int(numero ** 0.5) + 1):\n",
        "        if numero % i == 0:\n",
        "            return False\n",
        "    return True\n",
        "\n",
        "def numeros_primos(lista):\n",
        "    return [numero for numero in lista if primo(numero)]\n",
        "\n",
        "# Exemplo de uso\n",
        "numeros = [2, 3, 4, 5, 6, 7, 8, 9, 10, 11]\n",
        "primos = numeros_primos(numeros)\n",
        "print(\"Números primos:\", primos)\n"
      ],
      "metadata": {
        "colab": {
          "base_uri": "https://localhost:8080/"
        },
        "id": "TTtY1j-jcF12",
        "outputId": "a198c788-30e4-4371-cc4e-c5889eff7696"
      },
      "execution_count": 14,
      "outputs": [
        {
          "output_type": "stream",
          "name": "stdout",
          "text": [
            "Números primos: [2, 3, 5, 7, 11]\n"
          ]
        }
      ]
    },
    {
      "cell_type": "markdown",
      "source": [
        "\n",
        "\n",
        "---\n",
        "\n"
      ],
      "metadata": {
        "id": "xV3Akdjldt8K"
      }
    },
    {
      "cell_type": "markdown",
      "source": [
        "7. Escreva uma função que receba duas listas e retorne outra lista com os elementos que estão presentes em apenas uma das listas."
      ],
      "metadata": {
        "id": "-1Jw8pLQdvSj"
      }
    },
    {
      "cell_type": "code",
      "source": [
        "def valoresExclusivos(lista1, lista2):\n",
        "    valoresUnicos = []\n",
        "    for elemento in lista1:\n",
        "        if elemento not in lista2:\n",
        "            valoresUnicos.append(elemento)\n",
        "    for elemento in lista2:\n",
        "        if elemento not in lista1:\n",
        "            valoresUnicos.append(elemento)\n",
        "    return valoresUnicos\n",
        "\n",
        "# Exemplo de uso\n",
        "lista1 = [1, 2, 3, 4, 5]\n",
        "lista2 = [3, 4, 5, 6, 7]\n",
        "resultado = valoresExclusivos(lista1, lista2)\n",
        "print(\"Elementos exclusivos:\", resultado)\n"
      ],
      "metadata": {
        "colab": {
          "base_uri": "https://localhost:8080/"
        },
        "id": "KoXuYd9JebyM",
        "outputId": "092e3690-7424-4b0b-fa97-c623b3074dbb"
      },
      "execution_count": 17,
      "outputs": [
        {
          "output_type": "stream",
          "name": "stdout",
          "text": [
            "Elementos exclusivos: [1, 2, 6, 7]\n"
          ]
        }
      ]
    },
    {
      "cell_type": "markdown",
      "source": [
        "\n",
        "\n",
        "---\n",
        "\n"
      ],
      "metadata": {
        "id": "vioqyBPVgK40"
      }
    },
    {
      "cell_type": "markdown",
      "source": [
        "8. Dada uma lista de números inteiros, escreva uma função para encontrar o segundo maior valor na lista.\n"
      ],
      "metadata": {
        "id": "2x1mtY1ngMtm"
      }
    },
    {
      "cell_type": "code",
      "source": [
        "def segundoMaiorValor(lista):\n",
        "    if len(lista) < 2:\n",
        "        return None\n",
        "\n",
        "    primeiro_max = max(lista)\n",
        "    lista.remove(primeiro_max)\n",
        "    segundo_max = max(lista)\n",
        "\n",
        "    return segundo_max\n",
        "\n",
        "# Exemplo de uso\n",
        "numeros = [10, 5, 8, 20, 3, 15]\n",
        "segundo = segundoMaiorValor(numeros)\n",
        "if segundo is not None:\n",
        "    print(segundo, \"é o segundo maior valor.\")\n",
        "else:\n",
        "    print(\"Não existe segundo maior valor na lista.\")\n"
      ],
      "metadata": {
        "colab": {
          "base_uri": "https://localhost:8080/"
        },
        "id": "jt2acK27gx7a",
        "outputId": "38b3d169-a8cb-4542-ed3a-c088614eea18"
      },
      "execution_count": 18,
      "outputs": [
        {
          "output_type": "stream",
          "name": "stdout",
          "text": [
            "15 é o segundo maior valor.\n"
          ]
        }
      ]
    },
    {
      "cell_type": "markdown",
      "source": [
        "\n",
        "\n",
        "---\n",
        "\n"
      ],
      "metadata": {
        "id": "EHHK3AhehMzB"
      }
    },
    {
      "cell_type": "markdown",
      "source": [
        "9. Crie uma função que receba uma lista de tuplas, cada uma contendo o nome e a idade de uma pessoa, e retorne a lista ordenada pelo nome das pessoas em ordem alfabética."
      ],
      "metadata": {
        "id": "7r3aJWEUhNz1"
      }
    },
    {
      "cell_type": "code",
      "source": [
        "def ordenarPorNome(lista):\n",
        "    def chaveOrdenacao(pessoa):\n",
        "        return pessoa[0]\n",
        "\n",
        "    return sorted(lista, key=chaveOrdenacao)\n",
        "\n",
        "pessoas = [('Paulo', 60), ('Francisca', 56), ('Raissa', 20), ('Murilo', 21)]\n",
        "ordenadoPorNome = ordenarPorNome(pessoas)\n",
        "print(\"Lista ordenada pelo nome:\", ordenadoPorNome)\n"
      ],
      "metadata": {
        "colab": {
          "base_uri": "https://localhost:8080/"
        },
        "id": "_A5QwBwYh9BY",
        "outputId": "d992712c-cc5d-483e-ce2d-12e82e332be2"
      },
      "execution_count": 26,
      "outputs": [
        {
          "output_type": "stream",
          "name": "stdout",
          "text": [
            "Lista ordenada pelo nome: [('Francisca', 56), ('Murilo', 21), ('Paulo', 60), ('Raissa', 20)]\n"
          ]
        }
      ]
    },
    {
      "cell_type": "markdown",
      "source": [
        "\n",
        "\n",
        "---\n",
        "\n"
      ],
      "metadata": {
        "id": "_tHrpt38jkeF"
      }
    },
    {
      "cell_type": "markdown",
      "source": [
        "10. Dada uma lista contendo números inteiros, como você encontraria o maior número e o menor número dessa lista em uma unica passagem?\n"
      ],
      "metadata": {
        "id": "PWW1ZDEHjlqC"
      }
    },
    {
      "cell_type": "code",
      "source": [
        "def encontrarMaxMin(lista):\n",
        "    if not lista:\n",
        "        return None, None\n",
        "\n",
        "    maior = lista[0]\n",
        "    menor = lista[0]\n",
        "\n",
        "    for numero in lista:\n",
        "        if numero > maior:\n",
        "            maior = numero\n",
        "        if numero < menor:\n",
        "            menor = numero\n",
        "\n",
        "    return maior, menor\n",
        "\n",
        "numeros = [10, 5, 8, 20, 3, 15]\n",
        "maior, menor = encontrarMaxMin(numeros)\n",
        "\n",
        "if maior is not None and menor is not None:\n",
        "    print(\"Maior número:\", maior)\n",
        "    print(\"Menor número:\", menor)\n",
        "else:\n",
        "    print(\"A lista vazia.\")\n"
      ],
      "metadata": {
        "colab": {
          "base_uri": "https://localhost:8080/"
        },
        "id": "mKgwOIt9kLzU",
        "outputId": "c8510d37-b7df-4568-bd16-9dffba26f5f0"
      },
      "execution_count": 27,
      "outputs": [
        {
          "output_type": "stream",
          "name": "stdout",
          "text": [
            "Maior número: 20\n",
            "Menor número: 3\n"
          ]
        }
      ]
    }
  ]
}